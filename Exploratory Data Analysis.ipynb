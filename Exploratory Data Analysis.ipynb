{
    "cells": [
        {
            "cell_type": "code",
            "execution_count": 5,
            "metadata": {},
            "outputs": [
                {
                    "data": {
                        "text/html": "<div>\n<style scoped>\n    .dataframe tbody tr th:only-of-type {\n        vertical-align: middle;\n    }\n\n    .dataframe tbody tr th {\n        vertical-align: top;\n    }\n\n    .dataframe thead th {\n        text-align: right;\n    }\n</style>\n<table border=\"1\" class=\"dataframe\">\n  <thead>\n    <tr style=\"text-align: right;\">\n      <th></th>\n      <th>mpg</th>\n      <th>cylinders</th>\n      <th>engine</th>\n      <th>horsepower</th>\n      <th>weight</th>\n      <th>acceleration</th>\n      <th>year</th>\n      <th>origin</th>\n      <th>name</th>\n    </tr>\n  </thead>\n  <tbody>\n    <tr>\n      <th>0</th>\n      <td>18.0</td>\n      <td>8</td>\n      <td>307.0</td>\n      <td>130.0</td>\n      <td>3504</td>\n      <td>12.0</td>\n      <td>70</td>\n      <td>American</td>\n      <td>chevrolet chevelle malibu</td>\n    </tr>\n    <tr>\n      <th>1</th>\n      <td>15.0</td>\n      <td>8</td>\n      <td>350.0</td>\n      <td>165.0</td>\n      <td>3693</td>\n      <td>11.5</td>\n      <td>70</td>\n      <td>American</td>\n      <td>buick skylark 320</td>\n    </tr>\n    <tr>\n      <th>2</th>\n      <td>18.0</td>\n      <td>8</td>\n      <td>318.0</td>\n      <td>150.0</td>\n      <td>3436</td>\n      <td>11.0</td>\n      <td>70</td>\n      <td>American</td>\n      <td>plymouth satellite</td>\n    </tr>\n    <tr>\n      <th>3</th>\n      <td>16.0</td>\n      <td>8</td>\n      <td>304.0</td>\n      <td>150.0</td>\n      <td>3433</td>\n      <td>12.0</td>\n      <td>70</td>\n      <td>American</td>\n      <td>amc rebel sst</td>\n    </tr>\n    <tr>\n      <th>4</th>\n      <td>17.0</td>\n      <td>8</td>\n      <td>302.0</td>\n      <td>140.0</td>\n      <td>3449</td>\n      <td>10.5</td>\n      <td>70</td>\n      <td>American</td>\n      <td>ford torino</td>\n    </tr>\n  </tbody>\n</table>\n</div>",
                        "text/plain": "    mpg  cylinders  engine  horsepower  weight  acceleration  year    origin  \\\n0  18.0          8   307.0       130.0    3504          12.0    70  American   \n1  15.0          8   350.0       165.0    3693          11.5    70  American   \n2  18.0          8   318.0       150.0    3436          11.0    70  American   \n3  16.0          8   304.0       150.0    3433          12.0    70  American   \n4  17.0          8   302.0       140.0    3449          10.5    70  American   \n\n                        name  \n0  chevrolet chevelle malibu  \n1          buick skylark 320  \n2         plymouth satellite  \n3              amc rebel sst  \n4                ford torino  "
                    },
                    "execution_count": 5,
                    "metadata": {},
                    "output_type": "execute_result"
                }
            ],
            "source": "# The code was removed by Watson Studio for sharing."
        },
        {
            "cell_type": "markdown",
            "metadata": {},
            "source": "# this is trial"
        },
        {
            "cell_type": "code",
            "execution_count": 6,
            "metadata": {},
            "outputs": [],
            "source": "df = df_data_1 "
        },
        {
            "cell_type": "code",
            "execution_count": 8,
            "metadata": {},
            "outputs": [
                {
                    "data": {
                        "text/plain": "mpg             398\ncylinders       406\nengine          406\nhorsepower      400\nweight          406\nacceleration    406\nyear            406\norigin          406\nname            406\ndtype: int64"
                    },
                    "execution_count": 8,
                    "metadata": {},
                    "output_type": "execute_result"
                }
            ],
            "source": "df.count()"
        },
        {
            "cell_type": "code",
            "execution_count": 10,
            "metadata": {},
            "outputs": [
                {
                    "data": {
                        "text/plain": "(406, 9)"
                    },
                    "execution_count": 10,
                    "metadata": {},
                    "output_type": "execute_result"
                }
            ],
            "source": "df.shape"
        },
        {
            "cell_type": "code",
            "execution_count": 11,
            "metadata": {},
            "outputs": [
                {
                    "data": {
                        "text/html": "<div>\n<style scoped>\n    .dataframe tbody tr th:only-of-type {\n        vertical-align: middle;\n    }\n\n    .dataframe tbody tr th {\n        vertical-align: top;\n    }\n\n    .dataframe thead th {\n        text-align: right;\n    }\n</style>\n<table border=\"1\" class=\"dataframe\">\n  <thead>\n    <tr style=\"text-align: right;\">\n      <th></th>\n      <th>mpg</th>\n      <th>cylinders</th>\n      <th>engine</th>\n      <th>horsepower</th>\n      <th>weight</th>\n      <th>acceleration</th>\n      <th>year</th>\n      <th>origin</th>\n      <th>name</th>\n    </tr>\n  </thead>\n  <tbody>\n    <tr>\n      <th>401</th>\n      <td>34.0</td>\n      <td>4</td>\n      <td>108.0</td>\n      <td>70.0</td>\n      <td>2245</td>\n      <td>16.9</td>\n      <td>82</td>\n      <td>Japanese</td>\n      <td>toyota corolla</td>\n    </tr>\n    <tr>\n      <th>402</th>\n      <td>38.0</td>\n      <td>4</td>\n      <td>91.0</td>\n      <td>67.0</td>\n      <td>1965</td>\n      <td>15.0</td>\n      <td>82</td>\n      <td>Japanese</td>\n      <td>honda civic</td>\n    </tr>\n    <tr>\n      <th>403</th>\n      <td>32.0</td>\n      <td>4</td>\n      <td>91.0</td>\n      <td>67.0</td>\n      <td>1965</td>\n      <td>15.7</td>\n      <td>82</td>\n      <td>Japanese</td>\n      <td>honda civic (auto)</td>\n    </tr>\n    <tr>\n      <th>404</th>\n      <td>38.0</td>\n      <td>4</td>\n      <td>91.0</td>\n      <td>67.0</td>\n      <td>1995</td>\n      <td>16.2</td>\n      <td>82</td>\n      <td>Japanese</td>\n      <td>datsun 310 gx</td>\n    </tr>\n    <tr>\n      <th>405</th>\n      <td>32.0</td>\n      <td>4</td>\n      <td>144.0</td>\n      <td>96.0</td>\n      <td>2665</td>\n      <td>13.9</td>\n      <td>82</td>\n      <td>Japanese</td>\n      <td>toyota celica gt</td>\n    </tr>\n  </tbody>\n</table>\n</div>",
                        "text/plain": "      mpg  cylinders  engine  horsepower  weight  acceleration  year  \\\n401  34.0          4   108.0        70.0    2245          16.9    82   \n402  38.0          4    91.0        67.0    1965          15.0    82   \n403  32.0          4    91.0        67.0    1965          15.7    82   \n404  38.0          4    91.0        67.0    1995          16.2    82   \n405  32.0          4   144.0        96.0    2665          13.9    82   \n\n       origin                name  \n401  Japanese      toyota corolla  \n402  Japanese         honda civic  \n403  Japanese  honda civic (auto)  \n404  Japanese       datsun 310 gx  \n405  Japanese    toyota celica gt  "
                    },
                    "execution_count": 11,
                    "metadata": {},
                    "output_type": "execute_result"
                }
            ],
            "source": "df.tail(5)\n"
        },
        {
            "cell_type": "code",
            "execution_count": null,
            "metadata": {},
            "outputs": [],
            "source": ""
        }
    ],
    "metadata": {
        "kernelspec": {
            "display_name": "Python 3.9 with Spark",
            "language": "python3",
            "name": "python39"
        },
        "language_info": {
            "codemirror_mode": {
                "name": "ipython",
                "version": 3
            },
            "file_extension": ".py",
            "mimetype": "text/x-python",
            "name": "python",
            "nbconvert_exporter": "python",
            "pygments_lexer": "ipython3",
            "version": "3.9.12"
        }
    },
    "nbformat": 4,
    "nbformat_minor": 1
}